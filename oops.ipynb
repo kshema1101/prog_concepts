{
 "cells": [
  {
   "cell_type": "code",
   "execution_count": null,
   "metadata": {},
   "outputs": [],
   "source": []
  },
  {
   "cell_type": "markdown",
   "metadata": {},
   "source": [
    "oops"
   ]
  },
  {
   "cell_type": "markdown",
   "metadata": {},
   "source": [
    "inheritance"
   ]
  },
  {
   "cell_type": "code",
   "execution_count": 4,
   "metadata": {},
   "outputs": [
    {
     "name": "stdout",
     "output_type": "stream",
     "text": [
      "white\n"
     ]
    }
   ],
   "source": [
    "class vehicle:\n",
    "    #attributes\n",
    "    #color = \"white\"\n",
    "    #initializer/constructor\n",
    "    def __init__(self):\n",
    "        self.color = \"white\"\n",
    "    #method\n",
    "    def get_color(self):\n",
    "        return self.color\n",
    "car = vehicle()\n",
    "print(car.get_color())\n"
   ]
  },
  {
   "cell_type": "code",
   "execution_count": 13,
   "metadata": {},
   "outputs": [
    {
     "name": "stdout",
     "output_type": "stream",
     "text": [
      "Blue\n",
      "Blue\n",
      "green\n"
     ]
    },
    {
     "data": {
      "text/plain": [
       "'green'"
      ]
     },
     "execution_count": 13,
     "metadata": {},
     "output_type": "execute_result"
    }
   ],
   "source": [
    "color =\"red\"\n",
    "class vehicle:\n",
    "    #attributes\n",
    "    #color = \"white\"\n",
    "    #initializer/constructor\n",
    "    def __init__(self,newcolor):\n",
    "        #self.color = \"white\"\n",
    "        self.color = color\n",
    "    #method\n",
    "    def get_color(self): #get the color value\n",
    "        return self.color\n",
    "    def set_color(self, newcolor): #set the colour\n",
    "        color = newcolor\n",
    "        return color\n",
    "car = vehicle(\"Blue\")\n",
    "print(car.get_color())\n",
    "print(car.color) #we dont directly use it because of encapsulation\n",
    "car.color = \"green\"\n",
    "print(car.color)\n",
    "car.set_color(\"yellow\")\n",
    "car.get_color()"
   ]
  },
  {
   "cell_type": "markdown",
   "metadata": {},
   "source": []
  }
 ],
 "metadata": {
  "kernelspec": {
   "display_name": ".venv",
   "language": "python",
   "name": "python3"
  },
  "language_info": {
   "codemirror_mode": {
    "name": "ipython",
    "version": 3
   },
   "file_extension": ".py",
   "mimetype": "text/x-python",
   "name": "python",
   "nbconvert_exporter": "python",
   "pygments_lexer": "ipython3",
   "version": "3.11.3"
  }
 },
 "nbformat": 4,
 "nbformat_minor": 2
}
