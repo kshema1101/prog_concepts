{
 "cells": [
  {
   "cell_type": "code",
   "execution_count": null,
   "metadata": {},
   "outputs": [],
   "source": []
  },
  {
   "cell_type": "markdown",
   "metadata": {},
   "source": [
    "oops"
   ]
  },
  {
   "cell_type": "markdown",
   "metadata": {},
   "source": [
    "inheritance"
   ]
  },
  {
   "cell_type": "code",
   "execution_count": 4,
   "metadata": {},
   "outputs": [
    {
     "name": "stdout",
     "output_type": "stream",
     "text": [
      "white\n"
     ]
    }
   ],
   "source": [
    "class vehicle:\n",
    "    #attributes\n",
    "    #color = \"white\"\n",
    "    #initializer/constructor\n",
    "    def __init__(self):\n",
    "        self.color = \"white\"\n",
    "    #method\n",
    "    def get_color(self):\n",
    "        return self.color\n",
    "car = vehicle()\n",
    "print(car.get_color())\n"
   ]
  },
  {
   "cell_type": "code",
   "execution_count": 41,
   "metadata": {},
   "outputs": [
    {
     "name": "stdout",
     "output_type": "stream",
     "text": [
      "6\n",
      "all vars red1 6\n"
     ]
    }
   ],
   "source": [
    "color =\"red\"\n",
    "class vehicle:\n",
    "    #attributes\n",
    "    #color = \"white\"\n",
    "    #initializer/constructor\n",
    "    def __init__(self,newcolor):\n",
    "        #self.color = \"white\"\n",
    "        self.color = newcolor\n",
    "    #method\n",
    "    def get_color(self): #get the color value\n",
    "        return self.color\n",
    "    def set_color(self, newcolor): #set the colour\n",
    "        self.color = newcolor\n",
    "        return color\n",
    "    \n",
    "class truck(vehicle):\n",
    "    def __init__(self, newcolor):\n",
    "        super().__init__(newcolor) # super inheriting to parent class #super __init gives instantiation\n",
    "        self.color = newcolor \n",
    "        self.wheels = 4\n",
    "\n",
    "    def get_nowheels(self):\n",
    "        return self.wheels\n",
    "    \n",
    "    def set_nowheels(self, nowheels):\n",
    "        self.wheels = nowheels\n",
    "\n",
    "    def desc(self):\n",
    "        print(\"all vars\", self.color, self.wheels)\n",
    "\n",
    "#car = vehicle(\"Blue\")\n",
    "#print(car.get_color())\n",
    "#print(car.color) #we dont directly use it because of encapsulation\n",
    "#car.color = \"green\"\n",
    "#print(car.color)\n",
    "#car.set_color(\"yellow\")\n",
    "#print(car.get_color())\n",
    "t1 = truck(\"red1\")\n",
    "t1.set_nowheels(6)\n",
    "print(t1.get_nowheels())\n",
    "t1.desc()\n",
    "\n"
   ]
  },
  {
   "cell_type": "markdown",
   "metadata": {},
   "source": []
  }
 ],
 "metadata": {
  "kernelspec": {
   "display_name": ".venv",
   "language": "python",
   "name": "python3"
  },
  "language_info": {
   "codemirror_mode": {
    "name": "ipython",
    "version": 3
   },
   "file_extension": ".py",
   "mimetype": "text/x-python",
   "name": "python",
   "nbconvert_exporter": "python",
   "pygments_lexer": "ipython3",
   "version": "3.11.3"
  }
 },
 "nbformat": 4,
 "nbformat_minor": 2
}
